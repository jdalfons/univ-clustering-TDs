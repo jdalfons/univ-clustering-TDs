{
 "cells": [
  {
   "cell_type": "markdown",
   "metadata": {},
   "source": [
    "# Factorial analysis starting exercise\n",
    "Having an students list with 3 notes in thiferent messures x1 note max 10, x2 note max 20 and x3 note max 100 create a factorial analysis with this data."
   ]
  },
  {
   "cell_type": "code",
   "execution_count": 15,
   "metadata": {},
   "outputs": [],
   "source": [
    "import pandas as pd\n",
    "import sklearn as skl\n",
    "import matplotlib.pyplot as plt\n",
    "from math import sqrt"
   ]
  },
  {
   "cell_type": "code",
   "execution_count": 3,
   "metadata": {},
   "outputs": [
    {
     "data": {
      "text/html": [
       "<div>\n",
       "<style scoped>\n",
       "    .dataframe tbody tr th:only-of-type {\n",
       "        vertical-align: middle;\n",
       "    }\n",
       "\n",
       "    .dataframe tbody tr th {\n",
       "        vertical-align: top;\n",
       "    }\n",
       "\n",
       "    .dataframe thead th {\n",
       "        text-align: right;\n",
       "    }\n",
       "</style>\n",
       "<table border=\"1\" class=\"dataframe\">\n",
       "  <thead>\n",
       "    <tr style=\"text-align: right;\">\n",
       "      <th></th>\n",
       "      <th>student</th>\n",
       "      <th>x1</th>\n",
       "      <th>x2</th>\n",
       "      <th>x3</th>\n",
       "    </tr>\n",
       "  </thead>\n",
       "  <tbody>\n",
       "    <tr>\n",
       "      <th>0</th>\n",
       "      <td>1</td>\n",
       "      <td>5</td>\n",
       "      <td>18</td>\n",
       "      <td>70</td>\n",
       "    </tr>\n",
       "    <tr>\n",
       "      <th>1</th>\n",
       "      <td>2</td>\n",
       "      <td>6</td>\n",
       "      <td>12</td>\n",
       "      <td>95</td>\n",
       "    </tr>\n",
       "    <tr>\n",
       "      <th>2</th>\n",
       "      <td>3</td>\n",
       "      <td>1</td>\n",
       "      <td>16</td>\n",
       "      <td>80</td>\n",
       "    </tr>\n",
       "    <tr>\n",
       "      <th>3</th>\n",
       "      <td>4</td>\n",
       "      <td>8</td>\n",
       "      <td>10</td>\n",
       "      <td>65</td>\n",
       "    </tr>\n",
       "  </tbody>\n",
       "</table>\n",
       "</div>"
      ],
      "text/plain": [
       "   student  x1  x2  x3\n",
       "0        1   5  18  70\n",
       "1        2   6  12  95\n",
       "2        3   1  16  80\n",
       "3        4   8  10  65"
      ]
     },
     "execution_count": 3,
     "metadata": {},
     "output_type": "execute_result"
    }
   ],
   "source": [
    "df = pd.read_csv('data/students.csv', sep=';', )\n",
    "df"
   ]
  },
  {
   "cell_type": "markdown",
   "metadata": {},
   "source": [
    "### Data preparation\n",
    "First of all prepare data using the standarization.\n",
    "\n",
    "for this data estandarization wee follow this steps\n",
    "- Get data mean $$\\mu = \\frac{{\\sum_{i=1}^{n}} - X_i}{n}$$\n",
    "\n",
    "- Get data standard deviation $$ \\sigma = \\sqrt{\\frac{({\\sum{x1 - \\mu}})^2}{N}} $$\n",
    "\n",
    "- $ \\sigma $: Standarization\n",
    "- $ \\mu $: Mean\n",
    "- $ x $: Each element in the data sample"
   ]
  },
  {
   "cell_type": "code",
   "execution_count": 29,
   "metadata": {},
   "outputs": [],
   "source": [
    "def normalizer(list_values:list):\n",
    "    # Mean\n",
    "    mean = sum(list_values)/len(list_values)\n",
    "    # Estandar deviation\n",
    "    est_dev = sqrt(sum([(x - mean)**2 for x in list_values])/(len(list_values)-1))\n",
    "    return [(x - mean)/est_dev for x in list_values]"
   ]
  },
  {
   "cell_type": "code",
   "execution_count": 31,
   "metadata": {},
   "outputs": [
    {
     "data": {
      "text/plain": [
       "([0.0, 0.3396831102433787, -1.3587324409735149, 1.0190493307301363],\n",
       " [1.0954451150103321,\n",
       "  -0.5477225575051661,\n",
       "  0.5477225575051661,\n",
       "  -1.0954451150103321],\n",
       " [-0.5669467095138409,\n",
       "  1.3228756555322954,\n",
       "  0.18898223650461363,\n",
       "  -0.944911182523068])"
      ]
     },
     "execution_count": 31,
     "metadata": {},
     "output_type": "execute_result"
    }
   ],
   "source": [
    "x1_normalized = normalizer(df['x1'].to_list())\n",
    "x2_normalized = normalizer(df['x2'].to_list())\n",
    "x3_normalized = normalizer(df['x3'].to_list())\n",
    "x1_normalized, x2_normalized, x3_normalized "
   ]
  },
  {
   "cell_type": "code",
   "execution_count": null,
   "metadata": {},
   "outputs": [],
   "source": []
  },
  {
   "cell_type": "code",
   "execution_count": null,
   "metadata": {},
   "outputs": [],
   "source": []
  },
  {
   "cell_type": "code",
   "execution_count": null,
   "metadata": {},
   "outputs": [],
   "source": []
  }
 ],
 "metadata": {
  "kernelspec": {
   "display_name": "initiation_recherche",
   "language": "python",
   "name": "python3"
  },
  "language_info": {
   "codemirror_mode": {
    "name": "ipython",
    "version": 3
   },
   "file_extension": ".py",
   "mimetype": "text/x-python",
   "name": "python",
   "nbconvert_exporter": "python",
   "pygments_lexer": "ipython3",
   "version": "3.10.13"
  }
 },
 "nbformat": 4,
 "nbformat_minor": 2
}
