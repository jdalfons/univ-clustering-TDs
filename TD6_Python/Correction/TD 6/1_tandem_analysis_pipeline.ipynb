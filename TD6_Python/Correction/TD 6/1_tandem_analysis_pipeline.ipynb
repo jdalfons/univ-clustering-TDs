{
 "cells": [
  {
   "attachments": {},
   "cell_type": "markdown",
   "metadata": {},
   "source": [
    "# Importation - Inspection"
   ]
  },
  {
   "cell_type": "code",
   "execution_count": 1,
   "metadata": {},
   "outputs": [
    {
     "name": "stdout",
     "output_type": "stream",
     "text": [
      "<class 'pandas.core.frame.DataFrame'>\n",
      "RangeIndex: 100 entries, 0 to 99\n",
      "Data columns (total 7 columns):\n",
      " #   Column  Non-Null Count  Dtype  \n",
      "---  ------  --------------  -----  \n",
      " 0   MEOH    100 non-null    float64\n",
      " 1   ACET    100 non-null    float64\n",
      " 2   BU1     100 non-null    float64\n",
      " 3   ISOP    100 non-null    int64  \n",
      " 4   MEPR    100 non-null    float64\n",
      " 5   PRO1    100 non-null    float64\n",
      " 6   ACAL    100 non-null    float64\n",
      "dtypes: float64(6), int64(1)\n",
      "memory usage: 5.6 KB\n"
     ]
    }
   ],
   "source": [
    "#chgt de dossier\n",
    "import os\n",
    "os.chdir(\"C:/Users/ricco/Desktop/demo\")\n",
    "\n",
    "#chargement\n",
    "import pandas\n",
    "D = pandas.read_excel('alcools.xlsx',sheet_name=\"indiv actifs\")\n",
    "D.info()"
   ]
  },
  {
   "cell_type": "code",
   "execution_count": 2,
   "metadata": {},
   "outputs": [
    {
     "data": {
      "text/html": [
       "<div>\n",
       "<style scoped>\n",
       "    .dataframe tbody tr th:only-of-type {\n",
       "        vertical-align: middle;\n",
       "    }\n",
       "\n",
       "    .dataframe tbody tr th {\n",
       "        vertical-align: top;\n",
       "    }\n",
       "\n",
       "    .dataframe thead th {\n",
       "        text-align: right;\n",
       "    }\n",
       "</style>\n",
       "<table border=\"1\" class=\"dataframe\">\n",
       "  <thead>\n",
       "    <tr style=\"text-align: right;\">\n",
       "      <th></th>\n",
       "      <th>MEOH</th>\n",
       "      <th>ACET</th>\n",
       "      <th>BU1</th>\n",
       "      <th>ISOP</th>\n",
       "      <th>MEPR</th>\n",
       "      <th>PRO1</th>\n",
       "      <th>ACAL</th>\n",
       "    </tr>\n",
       "  </thead>\n",
       "  <tbody>\n",
       "    <tr>\n",
       "      <th>count</th>\n",
       "      <td>100.00000</td>\n",
       "      <td>100.000000</td>\n",
       "      <td>100.000000</td>\n",
       "      <td>100.000000</td>\n",
       "      <td>100.000000</td>\n",
       "      <td>100.00000</td>\n",
       "      <td>100.000000</td>\n",
       "    </tr>\n",
       "    <tr>\n",
       "      <th>mean</th>\n",
       "      <td>803.52500</td>\n",
       "      <td>221.033000</td>\n",
       "      <td>13.536000</td>\n",
       "      <td>95.130000</td>\n",
       "      <td>37.262000</td>\n",
       "      <td>374.16100</td>\n",
       "      <td>14.779000</td>\n",
       "    </tr>\n",
       "    <tr>\n",
       "      <th>std</th>\n",
       "      <td>365.78345</td>\n",
       "      <td>139.591235</td>\n",
       "      <td>9.908302</td>\n",
       "      <td>48.233995</td>\n",
       "      <td>21.010718</td>\n",
       "      <td>515.51154</td>\n",
       "      <td>11.430937</td>\n",
       "    </tr>\n",
       "    <tr>\n",
       "      <th>min</th>\n",
       "      <td>0.00000</td>\n",
       "      <td>13.000000</td>\n",
       "      <td>0.000000</td>\n",
       "      <td>0.000000</td>\n",
       "      <td>0.000000</td>\n",
       "      <td>23.00000</td>\n",
       "      <td>2.000000</td>\n",
       "    </tr>\n",
       "    <tr>\n",
       "      <th>25%</th>\n",
       "      <td>496.00000</td>\n",
       "      <td>123.750000</td>\n",
       "      <td>1.975000</td>\n",
       "      <td>69.500000</td>\n",
       "      <td>25.750000</td>\n",
       "      <td>71.75000</td>\n",
       "      <td>8.575000</td>\n",
       "    </tr>\n",
       "    <tr>\n",
       "      <th>50%</th>\n",
       "      <td>886.00000</td>\n",
       "      <td>178.500000</td>\n",
       "      <td>16.000000</td>\n",
       "      <td>88.500000</td>\n",
       "      <td>33.000000</td>\n",
       "      <td>181.00000</td>\n",
       "      <td>11.200000</td>\n",
       "    </tr>\n",
       "    <tr>\n",
       "      <th>75%</th>\n",
       "      <td>1077.25000</td>\n",
       "      <td>324.250000</td>\n",
       "      <td>20.000000</td>\n",
       "      <td>116.500000</td>\n",
       "      <td>45.250000</td>\n",
       "      <td>503.50000</td>\n",
       "      <td>16.250000</td>\n",
       "    </tr>\n",
       "    <tr>\n",
       "      <th>max</th>\n",
       "      <td>1548.00000</td>\n",
       "      <td>755.000000</td>\n",
       "      <td>44.000000</td>\n",
       "      <td>248.000000</td>\n",
       "      <td>127.000000</td>\n",
       "      <td>3020.00000</td>\n",
       "      <td>94.000000</td>\n",
       "    </tr>\n",
       "  </tbody>\n",
       "</table>\n",
       "</div>"
      ],
      "text/plain": [
       "             MEOH        ACET         BU1        ISOP        MEPR        PRO1  \\\n",
       "count   100.00000  100.000000  100.000000  100.000000  100.000000   100.00000   \n",
       "mean    803.52500  221.033000   13.536000   95.130000   37.262000   374.16100   \n",
       "std     365.78345  139.591235    9.908302   48.233995   21.010718   515.51154   \n",
       "min       0.00000   13.000000    0.000000    0.000000    0.000000    23.00000   \n",
       "25%     496.00000  123.750000    1.975000   69.500000   25.750000    71.75000   \n",
       "50%     886.00000  178.500000   16.000000   88.500000   33.000000   181.00000   \n",
       "75%    1077.25000  324.250000   20.000000  116.500000   45.250000   503.50000   \n",
       "max    1548.00000  755.000000   44.000000  248.000000  127.000000  3020.00000   \n",
       "\n",
       "             ACAL  \n",
       "count  100.000000  \n",
       "mean    14.779000  \n",
       "std     11.430937  \n",
       "min      2.000000  \n",
       "25%      8.575000  \n",
       "50%     11.200000  \n",
       "75%     16.250000  \n",
       "max     94.000000  "
      ]
     },
     "execution_count": 2,
     "metadata": {},
     "output_type": "execute_result"
    }
   ],
   "source": [
    "#statistiques descriptives\n",
    "D.describe()"
   ]
  },
  {
   "attachments": {},
   "cell_type": "markdown",
   "metadata": {},
   "source": [
    "# Préparation des données"
   ]
  },
  {
   "cell_type": "code",
   "execution_count": 3,
   "metadata": {},
   "outputs": [
    {
     "name": "stdout",
     "output_type": "stream",
     "text": [
      "<class 'numpy.ndarray'>\n",
      "[ 4.32986980e-17  8.65973959e-17  4.06619183e-17  8.27116153e-17\n",
      " -5.10702591e-17  8.88178420e-18  1.39888101e-16]\n",
      "[1. 1. 1. 1. 1. 1. 1.]\n"
     ]
    }
   ],
   "source": [
    "#centrage-réduction\n",
    "from sklearn.preprocessing import StandardScaler\n",
    "std = StandardScaler()\n",
    "Z = std.fit_transform(D)\n",
    "\n",
    "#type de la structure\n",
    "print(type(Z))\n",
    "\n",
    "#vérifications\n",
    "import numpy\n",
    "print(numpy.mean(Z,axis=0))\n",
    "print(numpy.std(Z,axis=0))"
   ]
  },
  {
   "cell_type": "code",
   "execution_count": 4,
   "metadata": {},
   "outputs": [
    {
     "data": {
      "text/html": [
       "<style>#sk-container-id-1 {color: black;background-color: white;}#sk-container-id-1 pre{padding: 0;}#sk-container-id-1 div.sk-toggleable {background-color: white;}#sk-container-id-1 label.sk-toggleable__label {cursor: pointer;display: block;width: 100%;margin-bottom: 0;padding: 0.3em;box-sizing: border-box;text-align: center;}#sk-container-id-1 label.sk-toggleable__label-arrow:before {content: \"▸\";float: left;margin-right: 0.25em;color: #696969;}#sk-container-id-1 label.sk-toggleable__label-arrow:hover:before {color: black;}#sk-container-id-1 div.sk-estimator:hover label.sk-toggleable__label-arrow:before {color: black;}#sk-container-id-1 div.sk-toggleable__content {max-height: 0;max-width: 0;overflow: hidden;text-align: left;background-color: #f0f8ff;}#sk-container-id-1 div.sk-toggleable__content pre {margin: 0.2em;color: black;border-radius: 0.25em;background-color: #f0f8ff;}#sk-container-id-1 input.sk-toggleable__control:checked~div.sk-toggleable__content {max-height: 200px;max-width: 100%;overflow: auto;}#sk-container-id-1 input.sk-toggleable__control:checked~label.sk-toggleable__label-arrow:before {content: \"▾\";}#sk-container-id-1 div.sk-estimator input.sk-toggleable__control:checked~label.sk-toggleable__label {background-color: #d4ebff;}#sk-container-id-1 div.sk-label input.sk-toggleable__control:checked~label.sk-toggleable__label {background-color: #d4ebff;}#sk-container-id-1 input.sk-hidden--visually {border: 0;clip: rect(1px 1px 1px 1px);clip: rect(1px, 1px, 1px, 1px);height: 1px;margin: -1px;overflow: hidden;padding: 0;position: absolute;width: 1px;}#sk-container-id-1 div.sk-estimator {font-family: monospace;background-color: #f0f8ff;border: 1px dotted black;border-radius: 0.25em;box-sizing: border-box;margin-bottom: 0.5em;}#sk-container-id-1 div.sk-estimator:hover {background-color: #d4ebff;}#sk-container-id-1 div.sk-parallel-item::after {content: \"\";width: 100%;border-bottom: 1px solid gray;flex-grow: 1;}#sk-container-id-1 div.sk-label:hover label.sk-toggleable__label {background-color: #d4ebff;}#sk-container-id-1 div.sk-serial::before {content: \"\";position: absolute;border-left: 1px solid gray;box-sizing: border-box;top: 0;bottom: 0;left: 50%;z-index: 0;}#sk-container-id-1 div.sk-serial {display: flex;flex-direction: column;align-items: center;background-color: white;padding-right: 0.2em;padding-left: 0.2em;position: relative;}#sk-container-id-1 div.sk-item {position: relative;z-index: 1;}#sk-container-id-1 div.sk-parallel {display: flex;align-items: stretch;justify-content: center;background-color: white;position: relative;}#sk-container-id-1 div.sk-item::before, #sk-container-id-1 div.sk-parallel-item::before {content: \"\";position: absolute;border-left: 1px solid gray;box-sizing: border-box;top: 0;bottom: 0;left: 50%;z-index: -1;}#sk-container-id-1 div.sk-parallel-item {display: flex;flex-direction: column;z-index: 1;position: relative;background-color: white;}#sk-container-id-1 div.sk-parallel-item:first-child::after {align-self: flex-end;width: 50%;}#sk-container-id-1 div.sk-parallel-item:last-child::after {align-self: flex-start;width: 50%;}#sk-container-id-1 div.sk-parallel-item:only-child::after {width: 0;}#sk-container-id-1 div.sk-dashed-wrapped {border: 1px dashed gray;margin: 0 0.4em 0.5em 0.4em;box-sizing: border-box;padding-bottom: 0.4em;background-color: white;}#sk-container-id-1 div.sk-label label {font-family: monospace;font-weight: bold;display: inline-block;line-height: 1.2em;}#sk-container-id-1 div.sk-label-container {text-align: center;}#sk-container-id-1 div.sk-container {/* jupyter's `normalize.less` sets `[hidden] { display: none; }` but bootstrap.min.css set `[hidden] { display: none !important; }` so we also need the `!important` here to be able to override the default hidden behavior on the sphinx rendered scikit-learn.org. See: https://github.com/scikit-learn/scikit-learn/issues/21755 */display: inline-block !important;position: relative;}#sk-container-id-1 div.sk-text-repr-fallback {display: none;}</style><div id=\"sk-container-id-1\" class=\"sk-top-container\"><div class=\"sk-text-repr-fallback\"><pre>PCA(svd_solver=&#x27;full&#x27;)</pre><b>In a Jupyter environment, please rerun this cell to show the HTML representation or trust the notebook. <br />On GitHub, the HTML representation is unable to render, please try loading this page with nbviewer.org.</b></div><div class=\"sk-container\" hidden><div class=\"sk-item\"><div class=\"sk-estimator sk-toggleable\"><input class=\"sk-toggleable__control sk-hidden--visually\" id=\"sk-estimator-id-1\" type=\"checkbox\" checked><label for=\"sk-estimator-id-1\" class=\"sk-toggleable__label sk-toggleable__label-arrow\">PCA</label><div class=\"sk-toggleable__content\"><pre>PCA(svd_solver=&#x27;full&#x27;)</pre></div></div></div></div></div>"
      ],
      "text/plain": [
       "PCA(svd_solver='full')"
      ]
     },
     "execution_count": 4,
     "metadata": {},
     "output_type": "execute_result"
    }
   ],
   "source": [
    "#ACP avec toutes les composantes\n",
    "from sklearn.decomposition import PCA\n",
    "acp_full = PCA(svd_solver='full')\n",
    "acp_full.fit(Z)"
   ]
  },
  {
   "cell_type": "code",
   "execution_count": 5,
   "metadata": {},
   "outputs": [
    {
     "data": {
      "text/plain": [
       "[<matplotlib.lines.Line2D at 0x172503b1010>]"
      ]
     },
     "execution_count": 5,
     "metadata": {},
     "output_type": "execute_result"
    },
    {
     "data": {
      "image/png": "[encoded data removed]",
      "text/plain": [
       "<Figure size 640x480 with 1 Axes>"
      ]
     },
     "metadata": {},
     "output_type": "display_data"
    }
   ],
   "source": [
    "#screeplot\n",
    "import matplotlib.pyplot as plt\n",
    "plt.plot(numpy.arange(1,acp_full.n_components_+1),acp_full.explained_variance_)"
   ]
  },
  {
   "cell_type": "code",
   "execution_count": 6,
   "metadata": {},
   "outputs": [
    {
     "data": {
      "text/plain": [
       "array([0.37430536, 0.56847336, 0.73489463, 0.86085718, 0.96006994,\n",
       "       0.98445882, 1.        ])"
      ]
     },
     "execution_count": 6,
     "metadata": {},
     "output_type": "execute_result"
    }
   ],
   "source": [
    "#variance expliquée (cumulée) par les facteurs\n",
    "numpy.cumsum(acp_full.explained_variance_ratio_)"
   ]
  },
  {
   "cell_type": "code",
   "execution_count": 7,
   "metadata": {},
   "outputs": [
    {
     "data": {
      "text/html": [
       "<div>\n",
       "<style scoped>\n",
       "    .dataframe tbody tr th:only-of-type {\n",
       "        vertical-align: middle;\n",
       "    }\n",
       "\n",
       "    .dataframe tbody tr th {\n",
       "        vertical-align: top;\n",
       "    }\n",
       "\n",
       "    .dataframe thead th {\n",
       "        text-align: right;\n",
       "    }\n",
       "</style>\n",
       "<table border=\"1\" class=\"dataframe\">\n",
       "  <thead>\n",
       "    <tr style=\"text-align: right;\">\n",
       "      <th></th>\n",
       "      <th>F1</th>\n",
       "      <th>F2</th>\n",
       "    </tr>\n",
       "  </thead>\n",
       "  <tbody>\n",
       "    <tr>\n",
       "      <th>0</th>\n",
       "      <td>-0.516114</td>\n",
       "      <td>-1.030670</td>\n",
       "    </tr>\n",
       "    <tr>\n",
       "      <th>1</th>\n",
       "      <td>0.031314</td>\n",
       "      <td>-0.444903</td>\n",
       "    </tr>\n",
       "    <tr>\n",
       "      <th>2</th>\n",
       "      <td>1.392829</td>\n",
       "      <td>-0.266363</td>\n",
       "    </tr>\n",
       "    <tr>\n",
       "      <th>3</th>\n",
       "      <td>-1.061051</td>\n",
       "      <td>-0.938873</td>\n",
       "    </tr>\n",
       "    <tr>\n",
       "      <th>4</th>\n",
       "      <td>1.382233</td>\n",
       "      <td>0.131638</td>\n",
       "    </tr>\n",
       "  </tbody>\n",
       "</table>\n",
       "</div>"
      ],
      "text/plain": [
       "         F1        F2\n",
       "0 -0.516114 -1.030670\n",
       "1  0.031314 -0.444903\n",
       "2  1.392829 -0.266363\n",
       "3 -1.061051 -0.938873\n",
       "4  1.382233  0.131638"
      ]
     },
     "execution_count": 7,
     "metadata": {},
     "output_type": "execute_result"
    }
   ],
   "source": [
    "#ACP en 2 facteurs - finalement\n",
    "acp = PCA(n_components=2,svd_solver='full')\n",
    "F = acp.fit_transform(Z)\n",
    "\n",
    "#affichage des coordonnées des \n",
    "dfFact = pandas.DataFrame(F,columns=['F1','F2'])\n",
    "dfFact.head()"
   ]
  },
  {
   "cell_type": "code",
   "execution_count": 8,
   "metadata": {},
   "outputs": [
    {
     "data": {
      "text/plain": [
       "<Axes: xlabel='F1', ylabel='F2'>"
      ]
     },
     "execution_count": 8,
     "metadata": {},
     "output_type": "execute_result"
    },
    {
     "data": {
      "image/png": "[encoded data removed]",
      "text/plain": [
       "<Figure size 640x480 with 1 Axes>"
      ]
     },
     "metadata": {},
     "output_type": "display_data"
    }
   ],
   "source": [
    "#graphique dans le plan\n",
    "#voir : https://seaborn.pydata.org/generated/seaborn.scatterplot.html\n",
    "#voir aussi pour les subtilités : https://python-charts.com/correlation/scatter-plot-seaborn/\n",
    "import seaborn as sns\n",
    "sns.scatterplot(dfFact,x='F1',y='F2',color='grey')"
   ]
  },
  {
   "attachments": {},
   "cell_type": "markdown",
   "metadata": {},
   "source": [
    "# Tandem Analysis -- K-Means sur les axes factoriels"
   ]
  },
  {
   "cell_type": "code",
   "execution_count": 9,
   "metadata": {},
   "outputs": [
    {
     "name": "stdout",
     "output_type": "stream",
     "text": [
      "(array([0, 1, 2]), array([30, 50, 20], dtype=int64))\n"
     ]
    },
    {
     "name": "stderr",
     "output_type": "stream",
     "text": [
      "c:\\Users\\ricco\\anaconda3\\Lib\\site-packages\\sklearn\\cluster\\_kmeans.py:870: FutureWarning: The default value of `n_init` will change from 10 to 'auto' in 1.4. Set the value of `n_init` explicitly to suppress the warning\n",
      "  warnings.warn(\n",
      "c:\\Users\\ricco\\anaconda3\\Lib\\site-packages\\sklearn\\cluster\\_kmeans.py:1382: UserWarning: KMeans is known to have a memory leak on Windows with MKL, when there are less chunks than available threads. You can avoid it by setting the environment variable OMP_NUM_THREADS=1.\n",
      "  warnings.warn(\n"
     ]
    }
   ],
   "source": [
    "#k-means sur les axes factoriels\n",
    "from sklearn.cluster import KMeans\n",
    "km = KMeans(n_clusters=3,random_state=0)\n",
    "groupes = km.fit_predict(F)\n",
    "\n",
    "#effectifs par groupe\n",
    "print(numpy.unique(groupes,return_counts=True))"
   ]
  },
  {
   "cell_type": "code",
   "execution_count": 10,
   "metadata": {},
   "outputs": [
    {
     "data": {
      "text/plain": [
       "<Axes: xlabel='F1', ylabel='F2'>"
      ]
     },
     "execution_count": 10,
     "metadata": {},
     "output_type": "execute_result"
    },
    {
     "data": {
      "image/png": "[encoded data removed]",
      "text/plain": [
       "<Figure size 640x480 with 1 Axes>"
      ]
     },
     "metadata": {},
     "output_type": "display_data"
    }
   ],
   "source": [
    "#représentation dans le plan factoriel\n",
    "dfFact['groupes'] = groupes\n",
    "\n",
    "#graphique\n",
    "sns.scatterplot(dfFact,x='F1',y='F2',hue='groupes',palette=['coral','darkseagreen','cornflowerblue'],alpha=0.8)"
   ]
  },
  {
   "cell_type": "code",
   "execution_count": 11,
   "metadata": {},
   "outputs": [
    {
     "name": "stdout",
     "output_type": "stream",
     "text": [
      "               F1        F2\n",
      "groupes                    \n",
      "0        1.920305 -0.226437\n",
      "1       -0.873434 -0.582737\n",
      "2       -0.696873  1.796498\n"
     ]
    }
   ],
   "source": [
    "#calculer les barycentres de classes\n",
    "gb = dfFact.groupby(by=\"groupes\")\n",
    "barycentres = gb.mean()\n",
    "print(barycentres)"
   ]
  },
  {
   "cell_type": "code",
   "execution_count": 12,
   "metadata": {},
   "outputs": [
    {
     "data": {
      "text/plain": [
       "array([[ 1.92030481, -0.22643673],\n",
       "       [-0.87343352, -0.58273704],\n",
       "       [-0.69687341,  1.79649769]])"
      ]
     },
     "execution_count": 12,
     "metadata": {},
     "output_type": "execute_result"
    }
   ],
   "source": [
    "#on pouvait aussi les avoir autrement\n",
    "km.cluster_centers_"
   ]
  },
  {
   "cell_type": "code",
   "execution_count": 13,
   "metadata": {},
   "outputs": [],
   "source": [
    "#les faire figurer dans le graphique\n",
    "barycentres['groupes'] = barycentres.index"
   ]
  },
  {
   "cell_type": "code",
   "execution_count": 14,
   "metadata": {},
   "outputs": [
    {
     "data": {
      "text/plain": [
       "<Axes: xlabel='F1', ylabel='F2'>"
      ]
     },
     "execution_count": 14,
     "metadata": {},
     "output_type": "execute_result"
    },
    {
     "data": {
      "image/png": "[encoded data removed]",
      "text/plain": [
       "<Figure size 640x480 with 1 Axes>"
      ]
     },
     "metadata": {},
     "output_type": "display_data"
    }
   ],
   "source": [
    "#récupérer des axes de réprésentation\n",
    "axe = plt.gca()\n",
    "\n",
    "#refaire le graphique avec les barycentres\n",
    "#voir https://matplotlib.org/stable/api/markers_api.html pour le type de \"marker\"\n",
    "sns.scatterplot(dfFact,x='F1',y='F2',hue='groupes',palette=['coral','darkseagreen','cornflowerblue'],ax=axe,alpha=0.4)\n",
    "sns.scatterplot(barycentres,x='F1',y='F2',hue='groupes',palette=['red','green','blue'],ax=axe,legend=False,marker=\"X\")"
   ]
  },
  {
   "attachments": {},
   "cell_type": "markdown",
   "metadata": {},
   "source": [
    "# Traitement des individus supplémentaires"
   ]
  },
  {
   "cell_type": "code",
   "execution_count": 15,
   "metadata": {},
   "outputs": [
    {
     "data": {
      "text/html": [
       "<div>\n",
       "<style scoped>\n",
       "    .dataframe tbody tr th:only-of-type {\n",
       "        vertical-align: middle;\n",
       "    }\n",
       "\n",
       "    .dataframe tbody tr th {\n",
       "        vertical-align: top;\n",
       "    }\n",
       "\n",
       "    .dataframe thead th {\n",
       "        text-align: right;\n",
       "    }\n",
       "</style>\n",
       "<table border=\"1\" class=\"dataframe\">\n",
       "  <thead>\n",
       "    <tr style=\"text-align: right;\">\n",
       "      <th></th>\n",
       "      <th>MEOH</th>\n",
       "      <th>ACET</th>\n",
       "      <th>BU1</th>\n",
       "      <th>ISOP</th>\n",
       "      <th>MEPR</th>\n",
       "      <th>PRO1</th>\n",
       "      <th>ACAL</th>\n",
       "    </tr>\n",
       "  </thead>\n",
       "  <tbody>\n",
       "    <tr>\n",
       "      <th>0</th>\n",
       "      <td>1154</td>\n",
       "      <td>203</td>\n",
       "      <td>15</td>\n",
       "      <td>123</td>\n",
       "      <td>56</td>\n",
       "      <td>50</td>\n",
       "      <td>14</td>\n",
       "    </tr>\n",
       "    <tr>\n",
       "      <th>1</th>\n",
       "      <td>923</td>\n",
       "      <td>296</td>\n",
       "      <td>18</td>\n",
       "      <td>112</td>\n",
       "      <td>30</td>\n",
       "      <td>173</td>\n",
       "      <td>5</td>\n",
       "    </tr>\n",
       "    <tr>\n",
       "      <th>2</th>\n",
       "      <td>1087</td>\n",
       "      <td>269</td>\n",
       "      <td>16</td>\n",
       "      <td>74</td>\n",
       "      <td>29</td>\n",
       "      <td>597</td>\n",
       "      <td>10</td>\n",
       "    </tr>\n",
       "  </tbody>\n",
       "</table>\n",
       "</div>"
      ],
      "text/plain": [
       "   MEOH  ACET  BU1  ISOP  MEPR  PRO1  ACAL\n",
       "0  1154   203   15   123    56    50    14\n",
       "1   923   296   18   112    30   173     5\n",
       "2  1087   269   16    74    29   597    10"
      ]
     },
     "execution_count": 15,
     "metadata": {},
     "output_type": "execute_result"
    }
   ],
   "source": [
    "#chargement des individus supplémentaires\n",
    "DSupp = pandas.read_excel('alcools.xlsx',sheet_name=\"indiv supplementaires\")\n",
    "DSupp.head()"
   ]
  },
  {
   "cell_type": "code",
   "execution_count": 16,
   "metadata": {},
   "outputs": [
    {
     "name": "stdout",
     "output_type": "stream",
     "text": [
      "[[ 0.96297585 -0.12983514  0.14849924  0.58071914  0.89632343 -0.6319821\n",
      "  -0.06849171]\n",
      " [ 0.32827317  0.53975215  0.45280098  0.35151531 -0.34737436 -0.39218213\n",
      "  -0.8597952 ]\n",
      " [ 0.7788846   0.34535584  0.24993315 -0.4402797  -0.39520889  0.43444541\n",
      "  -0.42018215]]\n"
     ]
    }
   ],
   "source": [
    "#application du centrage-réduction\n",
    "ZSupp = std.transform(DSupp)\n",
    "\n",
    "#affichage des valeurs\n",
    "print(ZSupp[:,:])"
   ]
  },
  {
   "cell_type": "code",
   "execution_count": 17,
   "metadata": {},
   "outputs": [
    {
     "data": {
      "text/html": [
       "<div>\n",
       "<style scoped>\n",
       "    .dataframe tbody tr th:only-of-type {\n",
       "        vertical-align: middle;\n",
       "    }\n",
       "\n",
       "    .dataframe tbody tr th {\n",
       "        vertical-align: top;\n",
       "    }\n",
       "\n",
       "    .dataframe thead th {\n",
       "        text-align: right;\n",
       "    }\n",
       "</style>\n",
       "<table border=\"1\" class=\"dataframe\">\n",
       "  <thead>\n",
       "    <tr style=\"text-align: right;\">\n",
       "      <th></th>\n",
       "      <th>F1</th>\n",
       "      <th>F2</th>\n",
       "    </tr>\n",
       "  </thead>\n",
       "  <tbody>\n",
       "    <tr>\n",
       "      <th>0</th>\n",
       "      <td>1.392829</td>\n",
       "      <td>-0.266363</td>\n",
       "    </tr>\n",
       "    <tr>\n",
       "      <th>1</th>\n",
       "      <td>0.409176</td>\n",
       "      <td>-0.412988</td>\n",
       "    </tr>\n",
       "    <tr>\n",
       "      <th>2</th>\n",
       "      <td>0.028218</td>\n",
       "      <td>-0.037222</td>\n",
       "    </tr>\n",
       "  </tbody>\n",
       "</table>\n",
       "</div>"
      ],
      "text/plain": [
       "         F1        F2\n",
       "0  1.392829 -0.266363\n",
       "1  0.409176 -0.412988\n",
       "2  0.028218 -0.037222"
      ]
     },
     "execution_count": 17,
     "metadata": {},
     "output_type": "execute_result"
    }
   ],
   "source": [
    "#projeter dans le repère factoriel\n",
    "dfFactSupp = pandas.DataFrame(acp.transform(ZSupp),columns=['F1','F2'])\n",
    "dfFactSupp"
   ]
  },
  {
   "cell_type": "code",
   "execution_count": 18,
   "metadata": {},
   "outputs": [
    {
     "data": {
      "text/plain": [
       "<Axes: xlabel='F1', ylabel='F2'>"
      ]
     },
     "execution_count": 18,
     "metadata": {},
     "output_type": "execute_result"
    },
    {
     "data": {
      "image/png": "[encoded data removed]",
      "text/plain": [
       "<Figure size 640x480 with 1 Axes>"
      ]
     },
     "metadata": {},
     "output_type": "display_data"
    }
   ],
   "source": [
    "#récupérer des axes de réprésentation\n",
    "axe = plt.gca()\n",
    "\n",
    "#graphique individus actifs avec les groupes d'appartenance et les barycentres\n",
    "sns.scatterplot(dfFact,x='F1',y='F2',hue='groupes',palette=['coral','darkseagreen','cornflowerblue'],ax=axe,alpha=0.4)\n",
    "sns.scatterplot(barycentres,x='F1',y='F2',hue='groupes',palette=['red','green','blue'],ax=axe,legend=False,marker=\"X\")\n",
    "#ajout des individus supplémentaires\n",
    "sns.scatterplot(dfFactSupp,x='F1',y='F2',ax=axe,color='black')"
   ]
  },
  {
   "cell_type": "code",
   "execution_count": 19,
   "metadata": {},
   "outputs": [
    {
     "name": "stdout",
     "output_type": "stream",
     "text": [
      "[0 1 1]\n"
     ]
    }
   ],
   "source": [
    "#prédiction de classes - vérification\n",
    "predGroupes = km.predict(dfFactSupp.values)\n",
    "print(predGroupes)"
   ]
  },
  {
   "cell_type": "code",
   "execution_count": 20,
   "metadata": {},
   "outputs": [
    {
     "data": {
      "text/plain": [
       "array([[0.5289847 , 2.28823919, 2.93636652],\n",
       "       [1.52260051, 1.29379341, 2.47086447],\n",
       "       [1.90152393, 1.05383247, 1.97187368]])"
      ]
     },
     "execution_count": 20,
     "metadata": {},
     "output_type": "execute_result"
    }
   ],
   "source": [
    "#distances aux centres de classes\n",
    "km.transform(dfFactSupp.values)"
   ]
  },
  {
   "attachments": {},
   "cell_type": "markdown",
   "metadata": {},
   "source": [
    "# Création d'un pipeline"
   ]
  },
  {
   "cell_type": "code",
   "execution_count": 21,
   "metadata": {},
   "outputs": [],
   "source": [
    "#importation de l'outil\n",
    "from sklearn.pipeline import Pipeline\n",
    "#actions = liste de tuples\n",
    "wkf = Pipeline([('cr',StandardScaler()),\n",
    "                ('pca',PCA(n_components=2,svd_solver='full')),\n",
    "                ('cm',KMeans(n_clusters=3,random_state=0))])"
   ]
  },
  {
   "cell_type": "code",
   "execution_count": 22,
   "metadata": {},
   "outputs": [
    {
     "name": "stdout",
     "output_type": "stream",
     "text": [
      "(array([0, 1, 2]), array([30, 50, 20], dtype=int64))\n"
     ]
    },
    {
     "name": "stderr",
     "output_type": "stream",
     "text": [
      "c:\\Users\\ricco\\anaconda3\\Lib\\site-packages\\sklearn\\cluster\\_kmeans.py:870: FutureWarning: The default value of `n_init` will change from 10 to 'auto' in 1.4. Set the value of `n_init` explicitly to suppress the warning\n",
      "  warnings.warn(\n",
      "c:\\Users\\ricco\\anaconda3\\Lib\\site-packages\\sklearn\\cluster\\_kmeans.py:1382: UserWarning: KMeans is known to have a memory leak on Windows with MKL, when there are less chunks than available threads. You can avoid it by setting the environment variable OMP_NUM_THREADS=1.\n",
      "  warnings.warn(\n"
     ]
    }
   ],
   "source": [
    "#création des groupes d'une traite\n",
    "#à partir des données actives initiales\n",
    "grpPipe = wkf.fit_predict(D)\n",
    "print(numpy.unique(grpPipe,return_counts=True))"
   ]
  },
  {
   "cell_type": "code",
   "execution_count": 23,
   "metadata": {},
   "outputs": [
    {
     "data": {
      "text/html": [
       "<div>\n",
       "<style scoped>\n",
       "    .dataframe tbody tr th:only-of-type {\n",
       "        vertical-align: middle;\n",
       "    }\n",
       "\n",
       "    .dataframe tbody tr th {\n",
       "        vertical-align: top;\n",
       "    }\n",
       "\n",
       "    .dataframe thead th {\n",
       "        text-align: right;\n",
       "    }\n",
       "</style>\n",
       "<table border=\"1\" class=\"dataframe\">\n",
       "  <thead>\n",
       "    <tr style=\"text-align: right;\">\n",
       "      <th>col_0</th>\n",
       "      <th>0</th>\n",
       "      <th>1</th>\n",
       "      <th>2</th>\n",
       "    </tr>\n",
       "    <tr>\n",
       "      <th>row_0</th>\n",
       "      <th></th>\n",
       "      <th></th>\n",
       "      <th></th>\n",
       "    </tr>\n",
       "  </thead>\n",
       "  <tbody>\n",
       "    <tr>\n",
       "      <th>0</th>\n",
       "      <td>30</td>\n",
       "      <td>0</td>\n",
       "      <td>0</td>\n",
       "    </tr>\n",
       "    <tr>\n",
       "      <th>1</th>\n",
       "      <td>0</td>\n",
       "      <td>50</td>\n",
       "      <td>0</td>\n",
       "    </tr>\n",
       "    <tr>\n",
       "      <th>2</th>\n",
       "      <td>0</td>\n",
       "      <td>0</td>\n",
       "      <td>20</td>\n",
       "    </tr>\n",
       "  </tbody>\n",
       "</table>\n",
       "</div>"
      ],
      "text/plain": [
       "col_0   0   1   2\n",
       "row_0            \n",
       "0      30   0   0\n",
       "1       0  50   0\n",
       "2       0   0  20"
      ]
     },
     "execution_count": 23,
     "metadata": {},
     "output_type": "execute_result"
    }
   ],
   "source": [
    "#croisement\n",
    "pandas.crosstab(groupes,grpPipe)"
   ]
  },
  {
   "cell_type": "code",
   "execution_count": 24,
   "metadata": {},
   "outputs": [
    {
     "name": "stdout",
     "output_type": "stream",
     "text": [
      "[0 1 1]\n"
     ]
    }
   ],
   "source": [
    "#application aux individus supplémentaires\n",
    "#avec les coordonnées initiales\n",
    "predGrpPipe = wkf.predict(DSupp)\n",
    "print(predGrpPipe)"
   ]
  },
  {
   "cell_type": "code",
   "execution_count": 25,
   "metadata": {},
   "outputs": [
    {
     "data": {
      "text/plain": [
       "array([[0.5289847 , 2.28823919, 2.93636652],\n",
       "       [1.52260051, 1.29379341, 2.47086447],\n",
       "       [1.90152393, 1.05383247, 1.97187368]])"
      ]
     },
     "execution_count": 25,
     "metadata": {},
     "output_type": "execute_result"
    }
   ],
   "source": [
    "#et les distances aux centres de classes ?\n",
    "wkf.transform(DSupp)"
   ]
  },
  {
   "cell_type": "markdown",
   "metadata": {},
   "source": [
    "# Sauvegarde dans un fichier pickle"
   ]
  },
  {
   "cell_type": "code",
   "execution_count": 26,
   "metadata": {},
   "outputs": [],
   "source": [
    "#pickle\n",
    "import pickle\n",
    "\n",
    "#ouvrir le fichier en écriture\n",
    "f = open(\"tandem_1_workflow.sav\",\"wb\")\n",
    "\n",
    "#sérialisation\n",
    "pickle.dump(wkf,f)\n",
    "\n",
    "#fermer le fichier\n",
    "f.close()"
   ]
  },
  {
   "cell_type": "code",
   "execution_count": 27,
   "metadata": {},
   "outputs": [
    {
     "data": {
      "text/plain": [
       "['alcools.xlsx', 'tandem_1_workflow.sav']"
      ]
     },
     "execution_count": 27,
     "metadata": {},
     "output_type": "execute_result"
    }
   ],
   "source": [
    "#lister le contenu du dossier\n",
    "os.listdir()"
   ]
  }
 ],
 "metadata": {
  "kernelspec": {
   "display_name": "base",
   "language": "python",
   "name": "python3"
  },
  "language_info": {
   "codemirror_mode": {
    "name": "ipython",
    "version": 3
   },
   "file_extension": ".py",
   "mimetype": "text/x-python",
   "name": "python",
   "nbconvert_exporter": "python",
   "pygments_lexer": "ipython3",
   "version": "3.11.7"
  },
  "orig_nbformat": 4,
  "vscode": {
   "interpreter": {
    "hash": "45021634a580003dd4940c9b62733de5a2e63533d32943a51f0c123d76d77221"
   }
  }
 },
 "nbformat": 4,
 "nbformat_minor": 2
}
