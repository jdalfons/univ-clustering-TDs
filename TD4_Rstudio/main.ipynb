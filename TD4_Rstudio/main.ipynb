{
 "cells": [
  {
   "cell_type": "code",
   "execution_count": 1,
   "metadata": {},
   "outputs": [
    {
     "name": "stderr",
     "output_type": "stream",
     "text": [
      "/var/folders/fj/25hghm0n7n33b98vlpmy81dm0000gn/T/ipykernel_43707/4080736814.py:1: DeprecationWarning: \n",
      "Pyarrow will become a required dependency of pandas in the next major release of pandas (pandas 3.0),\n",
      "(to allow more performant data types, such as the Arrow string type, and better interoperability with other libraries)\n",
      "but was not found to be installed on your system.\n",
      "If this would cause problems for you,\n",
      "please provide us feedback at https://github.com/pandas-dev/pandas/issues/54466\n",
      "        \n",
      "  import pandas as pd\n"
     ]
    }
   ],
   "source": [
    "import pandas as pd"
   ]
  },
  {
   "cell_type": "code",
   "execution_count": 3,
   "metadata": {},
   "outputs": [],
   "source": [
    "df = pd.read_excel('data/covertype_100k.xlsx')"
   ]
  },
  {
   "cell_type": "code",
   "execution_count": 5,
   "metadata": {},
   "outputs": [
    {
     "data": {
      "text/html": [
       "<div>\n",
       "<style scoped>\n",
       "    .dataframe tbody tr th:only-of-type {\n",
       "        vertical-align: middle;\n",
       "    }\n",
       "\n",
       "    .dataframe tbody tr th {\n",
       "        vertical-align: top;\n",
       "    }\n",
       "\n",
       "    .dataframe thead th {\n",
       "        text-align: right;\n",
       "    }\n",
       "</style>\n",
       "<table border=\"1\" class=\"dataframe\">\n",
       "  <thead>\n",
       "    <tr style=\"text-align: right;\">\n",
       "      <th></th>\n",
       "      <th>Numero</th>\n",
       "      <th>X1</th>\n",
       "      <th>X2</th>\n",
       "      <th>X3</th>\n",
       "      <th>X4</th>\n",
       "      <th>X5</th>\n",
       "      <th>X6</th>\n",
       "      <th>X7</th>\n",
       "      <th>X8</th>\n",
       "      <th>X9</th>\n",
       "      <th>X10</th>\n",
       "    </tr>\n",
       "  </thead>\n",
       "  <tbody>\n",
       "    <tr>\n",
       "      <th>0</th>\n",
       "      <td>1</td>\n",
       "      <td>3816</td>\n",
       "      <td>15</td>\n",
       "      <td>13</td>\n",
       "      <td>1075</td>\n",
       "      <td>407</td>\n",
       "      <td>4662</td>\n",
       "      <td>208</td>\n",
       "      <td>212</td>\n",
       "      <td>139</td>\n",
       "      <td>2751</td>\n",
       "    </tr>\n",
       "    <tr>\n",
       "      <th>1</th>\n",
       "      <td>2</td>\n",
       "      <td>3205</td>\n",
       "      <td>53</td>\n",
       "      <td>10</td>\n",
       "      <td>212</td>\n",
       "      <td>14</td>\n",
       "      <td>3379</td>\n",
       "      <td>226</td>\n",
       "      <td>219</td>\n",
       "      <td>127</td>\n",
       "      <td>3520</td>\n",
       "    </tr>\n",
       "    <tr>\n",
       "      <th>2</th>\n",
       "      <td>3</td>\n",
       "      <td>3079</td>\n",
       "      <td>214</td>\n",
       "      <td>3</td>\n",
       "      <td>351</td>\n",
       "      <td>25</td>\n",
       "      <td>2859</td>\n",
       "      <td>216</td>\n",
       "      <td>243</td>\n",
       "      <td>163</td>\n",
       "      <td>1719</td>\n",
       "    </tr>\n",
       "    <tr>\n",
       "      <th>3</th>\n",
       "      <td>4</td>\n",
       "      <td>3185</td>\n",
       "      <td>286</td>\n",
       "      <td>10</td>\n",
       "      <td>162</td>\n",
       "      <td>10</td>\n",
       "      <td>579</td>\n",
       "      <td>191</td>\n",
       "      <td>240</td>\n",
       "      <td>188</td>\n",
       "      <td>1302</td>\n",
       "    </tr>\n",
       "    <tr>\n",
       "      <th>4</th>\n",
       "      <td>5</td>\n",
       "      <td>3186</td>\n",
       "      <td>162</td>\n",
       "      <td>14</td>\n",
       "      <td>153</td>\n",
       "      <td>31</td>\n",
       "      <td>1337</td>\n",
       "      <td>233</td>\n",
       "      <td>243</td>\n",
       "      <td>137</td>\n",
       "      <td>1805</td>\n",
       "    </tr>\n",
       "  </tbody>\n",
       "</table>\n",
       "</div>"
      ],
      "text/plain": [
       "   Numero    X1   X2  X3    X4   X5    X6   X7   X8   X9   X10\n",
       "0       1  3816   15  13  1075  407  4662  208  212  139  2751\n",
       "1       2  3205   53  10   212   14  3379  226  219  127  3520\n",
       "2       3  3079  214   3   351   25  2859  216  243  163  1719\n",
       "3       4  3185  286  10   162   10   579  191  240  188  1302\n",
       "4       5  3186  162  14   153   31  1337  233  243  137  1805"
      ]
     },
     "execution_count": 5,
     "metadata": {},
     "output_type": "execute_result"
    }
   ],
   "source": [
    "df.head()"
   ]
  },
  {
   "cell_type": "code",
   "execution_count": null,
   "metadata": {},
   "outputs": [],
   "source": []
  },
  {
   "cell_type": "code",
   "execution_count": null,
   "metadata": {},
   "outputs": [],
   "source": []
  }
 ],
 "metadata": {
  "kernelspec": {
   "display_name": "clustering",
   "language": "python",
   "name": "python3"
  },
  "language_info": {
   "codemirror_mode": {
    "name": "ipython",
    "version": 3
   },
   "file_extension": ".py",
   "mimetype": "text/x-python",
   "name": "python",
   "nbconvert_exporter": "python",
   "pygments_lexer": "ipython3",
   "version": "3.10.13"
  }
 },
 "nbformat": 4,
 "nbformat_minor": 2
}
